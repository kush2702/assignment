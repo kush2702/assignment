{
 "cells": [
  {
   "cell_type": "markdown",
   "id": "0101a212",
   "metadata": {},
   "source": [
    "No SMOTE/ROSE cant be considered genai because they are oversampling techniques. They use statistics and the laws of distribution to fill in the while genai can generate random data"
   ]
  },
  {
   "cell_type": "markdown",
   "id": "3d978346",
   "metadata": {},
   "source": [
    "## Question 2: Implement WikipediaQueryRun tool from LangChain and search for Generative artificial intelligence and obtain the content of the page."
   ]
  },
  {
   "cell_type": "code",
   "execution_count": 5,
   "id": "8b466314",
   "metadata": {},
   "outputs": [],
   "source": [
    "from langchain_community.document_loaders import WikipediaLoader"
   ]
  },
  {
   "cell_type": "code",
   "execution_count": 11,
   "id": "93dcba56",
   "metadata": {},
   "outputs": [
    {
     "data": {
      "text/plain": [
       "1"
      ]
     },
     "execution_count": 11,
     "metadata": {},
     "output_type": "execute_result"
    }
   ],
   "source": [
    "docs = WikipediaLoader(query=\"Generative Artificial Intelligence\", load_max_docs=1).load()\n",
    "len(docs)"
   ]
  },
  {
   "cell_type": "code",
   "execution_count": 12,
   "id": "0ca84dc1",
   "metadata": {},
   "outputs": [
    {
     "data": {
      "text/plain": [
       "[Document(page_content='Generative artificial intelligence (generative AI, GenAI, or GAI) is artificial intelligence capable of generating text, images, videos, or other data using generative models, often in response to prompts. Generative AI models learn the patterns and structure of their input training data and then generate new data that has similar characteristics.\\nImprovements in transformer-based deep neural networks, particularly large language models (LLMs), enabled an AI boom of generative AI systems in the early 2020s. These include chatbots such as ChatGPT, Copilot, Gemini and LLaMA, text-to-image artificial intelligence image generation systems such as Stable Diffusion, Midjourney and DALL-E, and text-to-video AI generators such as Sora. Companies such as OpenAI, Anthropic, Microsoft, Google, and Baidu as well as numerous smaller firms have developed generative AI models.\\nGenerative AI has uses across a wide range of industries, including software development, healthcare, finance, entertainment, customer service, sales and marketing, art, writing, fashion, and product design. However, concerns have been raised about the potential misuse of generative AI such as cybercrime, the use of fake news or deepfakes to deceive or manipulate people, and the mass replacement of human jobs.\\n\\n\\n== History ==\\n\\nThe academic discipline of artificial intelligence was established at a research workshop held at Dartmouth College in 1956 and has experienced several waves of advancement and optimism in the decades since. Since its inception, researchers in the field have raised philosophical and ethical arguments about the nature of the human mind and the consequences of creating artificial beings with human-like intelligence; these issues have previously been explored by myth, fiction and philosophy since antiquity. The concept of automated art dates back at least to the automata of ancient Greek civilization, where inventors such as Daedalus and Hero of Alexandria were described as having designed machines capable of writing text, generating sounds, and playing music. The tradition of creative automatons has flourished throughout history, exemplified by Maillardet\\'s automaton created in the early 1800s.\\nArtificial Intelligence is an idea that has been captivating society since the mid-20th century. It began with science fiction familiarizing the world with the concept but the idea was not fully seen in the scientific manner until Alan Turing, a polymath, was curious about the feasibility of the concept. Turing\\'s groundbreaking 1950 paper, \"Computing Machinery and Intelligence,\" posed fundamental questions about machine reasoning similar to human intelligence, significantly contributing to the conceptual groundwork of AI. The development of AI was not very rapid at first because of the high costs and the fact that computers were not able to store commands. This changed during the 1956 Dartmouth Summer Research Project on AI where there was an inspiring call for AI research, setting the precedent for two decades of rapid advancements in the field.\\nSince the founding of AI in the 1950s, artists and researchers have used artificial intelligence to create artistic works. By the early 1970s, Harold Cohen was creating and exhibiting generative AI works created by AARON, the computer program Cohen created to generate paintings.\\nMarkov chains have long been used to model natural languages since their development by Russian mathematician Andrey Markov in the early 20th century. Markov published his first paper on the topic in 1906, and analyzed the pattern of vowels and consonants in the novel Eugeny Onegin using Markov chains. Once a Markov chain is learned on a text corpus, it can then be used as a probabilistic text generator.\\nThe field of machine learning often uses statistical models, including generative models, to model and predict data. Beginning in the late 2000s, the emergence of deep learning drove progress and research in image classification, speech reco', metadata={'title': 'Generative artificial intelligence', 'summary': 'Generative artificial intelligence (generative AI, GenAI, or GAI) is artificial intelligence capable of generating text, images, videos, or other data using generative models, often in response to prompts. Generative AI models learn the patterns and structure of their input training data and then generate new data that has similar characteristics.\\nImprovements in transformer-based deep neural networks, particularly large language models (LLMs), enabled an AI boom of generative AI systems in the early 2020s. These include chatbots such as ChatGPT, Copilot, Gemini and LLaMA, text-to-image artificial intelligence image generation systems such as Stable Diffusion, Midjourney and DALL-E, and text-to-video AI generators such as Sora. Companies such as OpenAI, Anthropic, Microsoft, Google, and Baidu as well as numerous smaller firms have developed generative AI models.\\nGenerative AI has uses across a wide range of industries, including software development, healthcare, finance, entertainment, customer service, sales and marketing, art, writing, fashion, and product design. However, concerns have been raised about the potential misuse of generative AI such as cybercrime, the use of fake news or deepfakes to deceive or manipulate people, and the mass replacement of human jobs.', 'source': 'https://en.wikipedia.org/wiki/Generative_artificial_intelligence'})]"
      ]
     },
     "execution_count": 12,
     "metadata": {},
     "output_type": "execute_result"
    }
   ],
   "source": [
    "docs"
   ]
  },
  {
   "cell_type": "code",
   "execution_count": 18,
   "id": "5286169b",
   "metadata": {},
   "outputs": [
    {
     "data": {
      "text/plain": [
       "{'title': 'Generative artificial intelligence',\n",
       " 'summary': 'Generative artificial intelligence (generative AI, GenAI, or GAI) is artificial intelligence capable of generating text, images, videos, or other data using generative models, often in response to prompts. Generative AI models learn the patterns and structure of their input training data and then generate new data that has similar characteristics.\\nImprovements in transformer-based deep neural networks, particularly large language models (LLMs), enabled an AI boom of generative AI systems in the early 2020s. These include chatbots such as ChatGPT, Copilot, Gemini and LLaMA, text-to-image artificial intelligence image generation systems such as Stable Diffusion, Midjourney and DALL-E, and text-to-video AI generators such as Sora. Companies such as OpenAI, Anthropic, Microsoft, Google, and Baidu as well as numerous smaller firms have developed generative AI models.\\nGenerative AI has uses across a wide range of industries, including software development, healthcare, finance, entertainment, customer service, sales and marketing, art, writing, fashion, and product design. However, concerns have been raised about the potential misuse of generative AI such as cybercrime, the use of fake news or deepfakes to deceive or manipulate people, and the mass replacement of human jobs.',\n",
       " 'source': 'https://en.wikipedia.org/wiki/Generative_artificial_intelligence'}"
      ]
     },
     "execution_count": 18,
     "metadata": {},
     "output_type": "execute_result"
    }
   ],
   "source": [
    "#meta information\n",
    "docs[0].metadata  "
   ]
  },
  {
   "cell_type": "code",
   "execution_count": 22,
   "id": "76a19668",
   "metadata": {},
   "outputs": [
    {
     "name": "stdout",
     "output_type": "stream",
     "text": [
      "Generative artificial intelligence (generative AI, GenAI, or GAI) is artificial intelligence capable of generating text, images, videos, or other data using generative models, often in response to prompts. Generative AI models learn the patterns and structure of their input training data and then generate new data that has similar characteristics.\n",
      "Improvements in transformer-based deep neural networks\n"
     ]
    }
   ],
   "source": [
    "excerpts = []\n",
    "for doc in docs:\n",
    "    excerpts.append(doc.page_content[:404])\n",
    "\n",
    "# Print the excerpt of the first document\n",
    "print(excerpts[0])\n"
   ]
  },
  {
   "cell_type": "markdown",
   "id": "f998ca40",
   "metadata": {},
   "source": [
    "# Implement a tool using YouTubeSearchTool and YoutubeLoader to search and obtain transcript of a video obtained on searching 'LangChain' in YouTube"
   ]
  },
  {
   "cell_type": "code",
   "execution_count": null,
   "id": "53d1b8a8",
   "metadata": {},
   "outputs": [],
   "source": [
    "#searchtool object\n",
    "tool = YouTubeSearchTool()"
   ]
  },
  {
   "cell_type": "code",
   "execution_count": null,
   "id": "c4de297f",
   "metadata": {},
   "outputs": [
    {
     "data": {
      "application/vnd.google.colaboratory.intrinsic+json": {
       "type": "string"
      },
      "text/plain": [
       "'https://www.youtube.com/watch?v=aywZrzNaKjs&pp=ygUJTGFuZ0NoYWlu'"
      ]
     },
     "metadata": {},
     "output_type": "display_data"
    }
   ],
   "source": [
    "link = tool.run(\"LangChain, 1\")\n",
    "link = link[2:-2] # Formatting the link into  YouTubeLoader that can read.\n",
    "link"
   ]
  },
  {
   "cell_type": "code",
   "execution_count": null,
   "id": "7dea2f00",
   "metadata": {},
   "outputs": [],
   "source": [
    "#YoutubeLoader object\n",
    "loader=youtube.YoutubeLoader.from_youtube_url(link)"
   ]
  },
  {
   "cell_type": "code",
   "execution_count": null,
   "id": "880929cb",
   "metadata": {},
   "outputs": [],
   "source": [
    "#retriving transcript from langchain video\n",
    "docs=loader.load()\n",
    "with io.open(\"transcript.txt\",\"w\",encoding=\"utf-8\")as f1:\n",
    "    for doc in docs:\n",
    "        f1.write(doc.page_content)\n",
    "    f1.close()"
   ]
  },
  {
   "cell_type": "code",
   "execution_count": null,
   "id": "e076f400",
   "metadata": {},
   "outputs": [
    {
     "data": {
      "text/plain": [
       "[Document(page_content=\"blank chain what is it why should you use it and how does it work let's have a look Lang chain is an open source framework that allows developers working with AI to combine large language models like gbt4 with external sources of computation and data the framework is currently offered as a python or a JavaScript package typescript to be specific in this video we're going to start unpacking the python framework and we're going to see why the popularity of the framework is exploding right now especially after the introduction of gpt4 in March 2023 to understand what need Lang chain fills let's have a look at a practical example so by now we all know that chat typically or tpt4 has an impressive general knowledge we can ask it about almost anything and we'll get a pretty good answer suppose you want to know something specifically from your own data your own document it could be a book a PDF file a database with proprietary information link chain allows you to connect a large language model like dbt4 to your own sources of data and we're not talking about pasting a snippet of a text document into the chativity prompt we're talking about referencing an entire database filled with your own data and not only that once you get the information you need you can have Lang chain help you take the action you want to take for instance send an email with some specific information and the way you do that is by taking the document you want your language model to reference and then you slice it up into smaller chunks and you store those chunks in a Victor database the chunks are stored as embeddings meaning they are vector representations of the text this allows you to build language model applications that follow a general pipeline a user asks an initial question this question is then sent to the language model and a vector representation of that question is used to do a similarity search in the vector database this allows us to fetch the relevant chunks of information from the vector database and feed that to the language model as well now the language model has both the initial question and the relevant information from the vector database and is therefore capable of providing an answer or take an action a link chain helps build applications that follow a pipeline like this and these applications are both data aware we can reference our own data in a vector store and they are authentic they can take actions and not only provide answers to questions and these two capabilities open up for an infinite number of practical use cases anything involving personal assistance will be huge you can have a large language model book flights transfer money pay taxes now imagine the implications for studying and learning new things you can have a large language model reference an entire syllabus and help you learn the material as fast as possible coding data analysis data science is all going to be affected by this one of the applications that I'm most excited about is the ability to connect large language models to existing company data such as customer data marketing data and so on I think we're going to see an exponential progress in data analytics and data science our ability to connect the large language models to Advanced apis such as metas API or Google's API is really gonna gonna make things take off so the main value proposition of Lang chain can be divided into three main Concepts we have the llm wrappers that allows us to connect to large language models like gbt4 or the ones from hugging face prompt templates allows us to avoid having to hard code text which is the input to the llms then we have indexes that allows us to extract relevant information for the llms the chains allows us to combine multiple components together to solve a specific task and build an entire llm application and finally we have the agents that allow the llm to interact with external apis there's a lot to unpack in Lang chain and new stuff is being added every day but on a high level this is what the framework looks like we have models or wrappers around models we have problems we have chains we have the embeddings and Vector stores which are the indexes and then we have the agents so what I'm going to do now is I'm going to start unpacking each of these elements by writing code and in this video I'm going to keep it high level just to get an overview of the framework and a feel for the different elements first thing we're going to do is we're going to pip install three libraries we're going to need python.in to manage the environment file with the passwords we're going to install link chain and we're going to install the Pinecone client Pinecone is going to be the vector store we're going to be using in this video in the environment file we need the open AI API key we need the pine cone environment and we need the pine cone API key foreign once you have signed up for a Pinecone account it's free the API keys and the environment name is easy to find same thing is true for openai just go to platform.orgmaili.com account slash API keys let's get started so when you have the keys in an environment file all you have to do is use node.n and find that in to get the keys and now we're ready to go so we're going to start off with the llms or the wrappers around the llms then I'm going to import the open AI Rubber and I'm going to instantiate the text DaVinci 003 completion model and ask it to explain what a large language model is and this is very similar to when you call the open AI API directly next we're going to move over to the chat model so gbt 3.5 and gbt4 are chat models and in order to interact with the chat model through link chain we're going to import a schema consisting of three parts an AI message a human message and a system message and then we're going to import chat open AI the system message is what you use to configure the system when you use a model and the human message is the user message thank you to use the chat model you combine the system message and the human message in a list and then you use that as an input to the chat model here I'm using GPT 3.5 turbo you could have used gpt4 I'm not using that because the open AI service is a little bit Limited at the moment so this works no problem let's move to the next concept which is prompt templates so prompts are what we are going to send to our language model but most of the time these problems are not going to be static they're going to be dynamic they're going to be used in an application and to do that link chain has something called prompt templates and what that allows us to do is to take a piece of text and inject a user input into that text and we can then format The Prompt with the user input and feed that to the language model so this is the most basic example but it allows us to dynamically change the prompt with the user input the third concept we want to Overlook at is the concept of a chain a chain takes a language model and a prompt template and combines them into an interface that takes an input from the user and outputs an answer from the language model sort of like a composite function where the inner function is the prompt template and the outer function is the language model we can also build sequential chains where we have one chain returning an output and then a second chain taking the output from the first chain as an input so here we have the first chain that takes a machine learning concept and gives us a brief explanation of that concept the second chain then takes the description of the first concept and explains it to me like I'm five years old then we simply combine the two chains the first chain called chain and then the second chain called chain two into an overall chain and run that chain and we see that the overall chain returns both the first description of the concept and the explain it to me like I'm 5 explanation of the concept all right let's move on to embeddings and Vector stores but before we do that let me just change the explainer to me like I'm five prompt so that we get a few more words I'm gonna go with 500 Words all right so this is a slightly longer explanation for a five-year-old now what I'm going to do is I'm going to check this text and I'm going to split it into chunks because we want to store it in a vector store in Pinecone and Lang chain has a text bitter tool for that so I'm going to import recursive character text splitter and then I'm going to spit the text into chunks like we talked about in the beginning of the video we can extract the plain text of the individual elements of the list with page content and what we want to do now is we want to turn this into an embedding which is just a vector representation of this text and we can use open ai's embedding model Ada with all my eyes model we can call embed query on the raw text that we just extracted from the chunks of the document and then we get the vector representation of that text or the embedding now we're going to check the chunks of the explanation document and we're going to store the vector representations in pine cone so we'll import the pine cone python client and we'll import pine cone from Lang chain Vector stores and we initiate the pine cone client with the key and the environment that we have in the environment file then we take the variable texts which consists of all the chunks of data we want to store we take the embeddings model and we take an index name and we load those chunks on the embeddings to Pine Cone and once we have the vector stored in Pinecone we can ask questions about the data stored what is magical about an auto encoder and then we can do a similarity search in Pinecone to get the answer or to extract all the relevant chunks if we head over to Pine Cone we can see that the index is here we can click on it and inspect it check the index info we have a total of 13 vectors in the vector store all right so the last thing we're going to do is we're going to have a brief look at the concept of an agent now if you head over to open AI chat GPT plugins page you can see that they're showcasing a python code interpreter now we can actually do something similar in langtune so here I'm importing the create python agent as well as the python Rebel tool and the python webble from nankchain then we instantiate a python agent executor using an open AI language model and this allows us to having the language model run python code so here I want to find the roots of a quadratic function and we see that the agent executor is using numpy roots to find the roots of this quadratic function alright so this video was meant to give you a brief introduction to the Core Concepts of langchain if you want to follow along for a deep dive into the concepts hit subscribe thanks for watching\", metadata={'source': 'aywZrzNaKjs'})]"
      ]
     },
     "metadata": {},
     "output_type": "display_data"
    }
   ],
   "source": [
    "docs"
   ]
  },
  {
   "cell_type": "markdown",
   "id": "caf9f925",
   "metadata": {},
   "source": [
    "#  Implement XML parser"
   ]
  },
  {
   "cell_type": "code",
   "execution_count": null,
   "id": "96d0ba39",
   "metadata": {},
   "outputs": [],
   "source": [
    "from langchain.output_parsers import XMLOutputParser\n",
    "from langchain_community.chat_models import ChatAnthropic\n",
    "from langchain_core.prompts import PromptTemplate"
   ]
  },
  {
   "cell_type": "code",
   "execution_count": null,
   "id": "e19a29ce",
   "metadata": {},
   "outputs": [],
   "source": [
    "from langchain_openai import AzureChatOpenAI\n",
    "model = AzureChatOpenAI(\n",
    "    temperature=0,\n",
    "    api_key=\"534036f31d14400b9f07a2cd7680af25\",\n",
    "    api_version=\"2024-02-01\",\n",
    "    azure_endpoint=\"https://dono-rag-demo-resource-instance.openai.azure.com\",\n",
    "    model=\"GPT_35_TURBO_DEMO_RAG_DEPLOYMENT_DONO\"\n",
    ")\n",
    "     "
   ]
  },
  {
   "cell_type": "code",
   "execution_count": null,
   "id": "3521dcbe",
   "metadata": {},
   "outputs": [
    {
     "name": "stdout",
     "output_type": "stream",
     "text": [
      "Shah Rukh Khan, also known as SRK, is a prominent Indian actor, film producer, and television personality. He is often referred to as the \"King of Bollywood\" and has appeared in over 80 Bollywood films.\n",
      "\n",
      "Some of his most popular movies include:\n",
      "1. <Dilwale Dulhania Le Jayenge>\n",
      "2. <Kuch Kuch Hota Hai>\n",
      "3. <Devdas>\n",
      "4. <Chak De! India>\n",
      "5. <My Name is Khan>\n",
      "6. <Om Shanti Om>\n",
      "7. <Kabhi Khushi Kabhie Gham>\n",
      "8. <Raees>\n",
      "9. <Don>\n",
      "10. <Swades>\n",
      "\n",
      "Shah Rukh Khan has received numerous awards for his performances and has a massive fan following both in India and internationally. He is known for his charismatic on-screen presence and versatility as an actor.\n"
     ]
    }
   ],
   "source": [
    "\n",
    "actor_query = \"Tell me about shahrukhan.\"\n",
    "output = model.invoke(\n",
    "    f\"\"\"{actor_query}\n",
    "Please enclose the movies in  tags\"\"\"\n",
    ")\n",
    "print(output.content)"
   ]
  },
  {
   "cell_type": "code",
   "execution_count": null,
   "id": "163e9476",
   "metadata": {},
   "outputs": [
    {
     "name": "stdout",
     "output_type": "stream",
     "text": [
      "Defaulting to user installation because normal site-packages is not writeable\n",
      "Requirement already satisfied: defusedxml in c:\\programdata\\anaconda3\\lib\\site-packages (0.7.1)\n"
     ]
    }
   ],
   "source": [
    "!pip install defusedxml"
   ]
  },
  {
   "cell_type": "code",
   "execution_count": null,
   "id": "a2c6ff94",
   "metadata": {},
   "outputs": [
    {
     "name": "stdout",
     "output_type": "stream",
     "text": [
      "{'shahrukhan': [{'name': 'Shah Rukh Khan'}, {'age': '55'}, {'occupation': 'Actor, Producer, Television Personality'}, {'birthplace': 'New Delhi, India'}, {'movies': [{'movie': 'Dilwale Dulhania Le Jayenge'}, {'movie': 'Kuch Kuch Hota Hai'}, {'movie': 'My Name is Khan'}]}, {'awards': [{'award': 'Padma Shri'}, {'award': 'Ordre des Arts et des Lettres'}, {'award': 'Crystal Award'}]}]}\n"
     ]
    }
   ],
   "source": [
    "parser = XMLOutputParser()\n",
    "\n",
    "prompt = PromptTemplate(\n",
    "    template=\"\"\"{query}\\n{format_instructions}\"\"\",\n",
    "    input_variables=[\"query\"],\n",
    "    partial_variables={\"format_instructions\": parser.get_format_instructions()},\n",
    ")\n",
    "\n",
    "chain = prompt | model | parser\n",
    "\n",
    "output = chain.invoke({\"query\": actor_query})\n",
    "print(output)"
   ]
  },
  {
   "cell_type": "markdown",
   "id": "71fcf067",
   "metadata": {},
   "source": [
    "## YAML"
   ]
  },
  {
   "cell_type": "code",
   "execution_count": null,
   "id": "c5fc9bdc",
   "metadata": {},
   "outputs": [],
   "source": [
    "from typing import List\n",
    "\n",
    "from langchain.output_parsers import YamlOutputParser\n",
    "from langchain_core.prompts import PromptTemplate\n",
    "from langchain_core.pydantic_v1 import BaseModel, Field\n",
    "from langchain_openai import ChatOpenAI"
   ]
  },
  {
   "cell_type": "code",
   "execution_count": null,
   "id": "de7bfe5d",
   "metadata": {},
   "outputs": [],
   "source": [
    "from langchain_openai import AzureChatOpenAI\n",
    "model = AzureChatOpenAI(\n",
    "    temperature=0,\n",
    "    api_key=\"534036f31d14400b9f07a2cd7680af25\",\n",
    "    api_version=\"2024-02-01\",\n",
    "    azure_endpoint=\"https://dono-rag-demo-resource-instance.openai.azure.com\",\n",
    "    model=\"GPT_35_TURBO_DEMO_RAG_DEPLOYMENT_DONO\"\n",
    ")\n",
    "     "
   ]
  },
  {
   "cell_type": "code",
   "execution_count": null,
   "id": "49603780",
   "metadata": {},
   "outputs": [],
   "source": [
    "\n",
    "# Define your desired data structure.\n",
    "class Joke(BaseModel):\n",
    "    setup: str = Field(description=\"question to set up a joke\")\n",
    "    punchline: str = Field(description=\"answer to resolve the joke\")"
   ]
  },
  {
   "cell_type": "code",
   "execution_count": null,
   "id": "0c4c7868",
   "metadata": {},
   "outputs": [
    {
     "data": {
      "text/plain": [
       "Joke(setup=\"Why don't skeletons fight each other?\", punchline=\"They don't have the guts.\")"
      ]
     },
     "metadata": {},
     "output_type": "display_data"
    }
   ],
   "source": [
    "# And a query intented to prompt a language model to populate the data structure.\n",
    "joke_query = \"Tell me a joke.\"\n",
    "\n",
    "# Set up a parser + inject instructions into the prompt template.\n",
    "parser = YamlOutputParser(pydantic_object=Joke)\n",
    "\n",
    "prompt = PromptTemplate(\n",
    "    template=\"Answer the user query.\\n{format_instructions}\\n{query}\\n\",\n",
    "    input_variables=[\"query\"],\n",
    "    partial_variables={\"format_instructions\": parser.get_format_instructions()},\n",
    ")\n",
    "\n",
    "chain = prompt | model | parser\n",
    "\n",
    "chain.invoke({\"query\": joke_query})"
   ]
  },
  {
   "cell_type": "markdown",
   "id": "a4a805bb",
   "metadata": {},
   "source": [
    "Visit python.langchain.com/docs/modules/model_io/prompts/example_selectors/ngram_overlap/ and implement n-gram overlap selector\n",
    "Visit python.langchain.com/docs/modules/model_io/prompts/example_selectors/similarity and implement semantic similarity selector"
   ]
  },
  {
   "cell_type": "code",
   "execution_count": null,
   "id": "1b014550",
   "metadata": {},
   "outputs": [],
   "source": [
    "from langchain_chroma import Chroma\n",
    "from langchain_core.example_selectors import SemanticSimilarityExampleSelector\n",
    "from langchain_community.example_selectors import NGramOverlapExampleSelector\n",
    "from langchain_core.prompts import FewShotPromptTemplate, PromptTemplate\n",
    "from langchain_openai import AzureOpenAIEmbeddings\n"
   ]
  },
  {
   "cell_type": "code",
   "execution_count": null,
   "id": "b4c7ef6a",
   "metadata": {},
   "outputs": [],
   "source": [
    "\n",
    "# initializing the embeddin model\n",
    "embeddings = AzureOpenAIEmbeddings(\n",
    "    model=\"ADA_RAG_DONO_DEMO\",\n",
    "    api_key=\"35e177acfb054c28a1058071beb6e609\",\n",
    "    api_version=\"2024-02-01\",\n",
    "    azure_endpoint=\"https://dono-rag-demo-resource-instance.openai.azure.com\"\n",
    ")"
   ]
  },
  {
   "cell_type": "markdown",
   "id": "8cbb9e68",
   "metadata": {},
   "source": [
    "## Semantic Similarity Selector"
   ]
  },
  {
   "cell_type": "code",
   "execution_count": null,
   "id": "490010e4",
   "metadata": {},
   "outputs": [],
   "source": [
    "#creating the examples\n",
    "example_prompt = PromptTemplate(\n",
    "    input_variables=[\"sentence\", \"subject\"],\n",
    "    template=\"Sentence: {sentence}\\nSubject: {subject}\",\n",
    ")\n",
    "\n",
    "examples = [\n",
    "    {\"sentence\": \"The cat sat on the mat.\", \"subject\": \"The cat\"},\n",
    "    {\"sentence\": \"She enjoys reading books.\", \"subject\": \"She\"},\n",
    "    {\"sentence\": \"The children are playing in the park.\", \"subject\": \"The children\"},\n",
    "    {\"sentence\": \"John and Mary went to the store.\", \"subject\": \"John and Mary\"},\n",
    "    {\"sentence\": \"A dog barked loudly at the stranger.\", \"subject\": \"A dog\"},\n",
    "    {\"sentence\": \"The teacher explained the lesson.\", \"subject\": \"The teacher\"},\n",
    "    {\"sentence\": \"Birds are singing in the trees.\", \"subject\": \"Birds\"},\n",
    "    {\"sentence\": \"My brother loves to play basketball.\", \"subject\": \"My brother\"},\n",
    "    {\"sentence\": \"The book was on the table.\", \"subject\": \"The book\"},\n",
    "    {\"sentence\": \"Cars zoomed past the busy intersection.\", \"subject\": \"Cars\"},\n",
    "    {\"sentence\": \"Her smile brightened the room.\", \"subject\": \"Her smile\"},\n",
    "    {\"sentence\": \"They will arrive tomorrow.\", \"subject\": \"They\"},\n",
    "]\n"
   ]
  },
  {
   "cell_type": "code",
   "execution_count": null,
   "id": "3af49267",
   "metadata": {},
   "outputs": [],
   "source": [
    "# defining the example selector\n",
    "example_selector = SemanticSimilarityExampleSelector.from_examples(\n",
    "    examples,\n",
    "    embeddings,\n",
    "    Chroma,\n",
    "    k=2,\n",
    ")\n",
    "\n",
    "similar_prompt = FewShotPromptTemplate(\n",
    "    example_selector=example_selector,\n",
    "    example_prompt=example_prompt,\n",
    "    prefix=\"Give the subject of every input sentence\",\n",
    "    suffix=\"Input: {sentence}\\nOutput:\",\n",
    "    input_variables=[\"sentence\"],\n",
    ")"
   ]
  },
  {
   "cell_type": "code",
   "execution_count": null,
   "id": "ae12ffd2",
   "metadata": {},
   "outputs": [
    {
     "name": "stdout",
     "output_type": "stream",
     "text": [
      "Give the subject of every input sentence\n",
      "\n",
      "Sentence: The cat sat on the mat.\n",
      "Subject: The cat\n",
      "\n",
      "Sentence: A dog barked loudly at the stranger.\n",
      "Subject: A dog\n",
      "\n",
      "Input: The quick brown fox jumps over the lazy dog.\n",
      "Output:\n"
     ]
    }
   ],
   "source": [
    "# Result\n",
    "print(similar_prompt.format(sentence=\"The quick brown fox jumps over the lazy dog.\"))"
   ]
  },
  {
   "cell_type": "code",
   "execution_count": null,
   "id": "e3242d87",
   "metadata": {},
   "outputs": [
    {
     "name": "stdout",
     "output_type": "stream",
     "text": [
      "Give the subject of every input sentence\n",
      "\n",
      "Sentence: John and Mary went to the store.\n",
      "Subject: John and Mary\n",
      "\n",
      "Sentence: They will arrive tomorrow.\n",
      "Subject: They\n",
      "\n",
      "Input: Alice and Bob are going to the concert.\n",
      "Output:\n"
     ]
    }
   ],
   "source": [
    "# Result\n",
    "print(similar_prompt.format(sentence=\"Alice and Bob are going to the concert.\"))"
   ]
  },
  {
   "cell_type": "code",
   "execution_count": null,
   "id": "57030ee8",
   "metadata": {},
   "outputs": [
    {
     "name": "stdout",
     "output_type": "stream",
     "text": [
      "Give the subject of every input sentence\n",
      "\n",
      "Sentence: The teacher explained the lesson.\n",
      "Subject: The teacher\n",
      "\n",
      "Sentence: The teacher explained the lesson.\n",
      "Subject: The teacher\n",
      "\n",
      "Input: Our teacher teaches good.\n",
      "Output:\n"
     ]
    }
   ],
   "source": [
    "# Checking after adding new examples\n",
    "similar_prompt.example_selector.add_example(\n",
    "    {\"sentence\": \"The teacher explained the lesson.\", \"subject\": \"The teacher\"}\n",
    ")\n",
    "similar_prompt.example_selector.add_example(\n",
    "    {\"sentence\": \"Her smile brightened the room.\", \"subject\": \"Her smile\"}\n",
    ")\n",
    "print(similar_prompt.format(sentence=\"Our teacher teaches good.\"))"
   ]
  },
  {
   "cell_type": "markdown",
   "id": "96173b13",
   "metadata": {},
   "source": [
    "## N-Gram Overlap Selector"
   ]
  },
  {
   "cell_type": "code",
   "execution_count": null,
   "id": "649a92c6",
   "metadata": {},
   "outputs": [],
   "source": [
    "# creating the n-gram example selector\n",
    "example_selector = NGramOverlapExampleSelector(\n",
    "    examples=examples,\n",
    "    example_prompt=example_prompt,\n",
    "    threshold=-1.0,\n",
    ")\n",
    "\n",
    "dynamic_prompt = FewShotPromptTemplate(\n",
    "    example_selector=example_selector,\n",
    "    example_prompt=example_prompt,\n",
    "    prefix=\"Give the subject of every input sentence\",\n",
    "    suffix=\"Input: {sentence}\\nOutput:\",\n",
    "    input_variables=[\"sentence\"],\n",
    ")"
   ]
  },
  {
   "cell_type": "code",
   "execution_count": null,
   "id": "e7c2fde0",
   "metadata": {},
   "outputs": [
    {
     "name": "stdout",
     "output_type": "stream",
     "text": [
      "Give the subject of every input sentence\n",
      "\n",
      "Sentence: The cat sat on the mat.\n",
      "Subject: The cat\n",
      "\n",
      "Sentence: The children are playing in the park.\n",
      "Subject: The children\n",
      "\n",
      "Sentence: The teacher explained the lesson.\n",
      "Subject: The teacher\n",
      "\n",
      "Sentence: The book was on the table.\n",
      "Subject: The book\n",
      "\n",
      "Sentence: John and Mary went to the store.\n",
      "Subject: John and Mary\n",
      "\n",
      "Sentence: A dog barked loudly at the stranger.\n",
      "Subject: A dog\n",
      "\n",
      "Sentence: Birds are singing in the trees.\n",
      "Subject: Birds\n",
      "\n",
      "Sentence: Cars zoomed past the busy intersection.\n",
      "Subject: Cars\n",
      "\n",
      "Sentence: Her smile brightened the room.\n",
      "Subject: Her smile\n",
      "\n",
      "Sentence: She enjoys reading books.\n",
      "Subject: She\n",
      "\n",
      "Sentence: My brother loves to play basketball.\n",
      "Subject: My brother\n",
      "\n",
      "Sentence: They will arrive tomorrow.\n",
      "Subject: They\n",
      "\n",
      "Input: The quick brown fox jumps over the lazy dog.\n",
      "Output:\n"
     ]
    }
   ],
   "source": [
    "# result\n",
    "print(dynamic_prompt.format(sentence=\"The quick brown fox jumps over the lazy dog.\"))"
   ]
  },
  {
   "cell_type": "code",
   "execution_count": null,
   "id": "e37906d3",
   "metadata": {},
   "outputs": [
    {
     "name": "stdout",
     "output_type": "stream",
     "text": [
      "Give the subject of every input sentence\n",
      "\n",
      "Sentence: The cat sat on the mat.\n",
      "Subject: The cat\n",
      "\n",
      "Sentence: The children are playing in the park.\n",
      "Subject: The children\n",
      "\n",
      "Sentence: The teacher explained the lesson.\n",
      "Subject: The teacher\n",
      "\n",
      "Sentence: The book was on the table.\n",
      "Subject: The book\n",
      "\n",
      "Input: The quick brown fox jumps over the lazy dog.\n",
      "Output:\n"
     ]
    }
   ],
   "source": [
    "# checking after changing the threshold\n",
    "example_selector.threshold = 0.028\n",
    "print(dynamic_prompt.format(sentence=\"The quick brown fox jumps over the lazy dog.\"))"
   ]
  }
 ],
 "metadata": {
  "kernelspec": {
   "display_name": "Python 3 (ipykernel)",
   "language": "python",
   "name": "python3"
  },
  "language_info": {
   "codemirror_mode": {
    "name": "ipython",
    "version": 3
   },
   "file_extension": ".py",
   "mimetype": "text/x-python",
   "name": "python",
   "nbconvert_exporter": "python",
   "pygments_lexer": "ipython3",
   "version": "3.11.4"
  }
 },
 "nbformat": 4,
 "nbformat_minor": 5
}
